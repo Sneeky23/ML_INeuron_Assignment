{
 "cells": [
  {
   "cell_type": "markdown",
   "metadata": {},
   "source": [
    "# Problem Statement :"
   ]
  },
  {
   "cell_type": "markdown",
   "metadata": {},
   "source": [
    "1. Write a function so that the columns of the output matrix are powers of the input\n",
    "vector.\n",
    "The order of the powers is determined by the increasing boolean argument. Specifically, when\n",
    "increasing is False, the i-th output column is the input vector raised element-wise to the power\n",
    "of N - i - 1.\n",
    "HINT: Such a matrix with a geometric progression in each row is named for AlexandreTheophile Vandermonde"
   ]
  },
  {
   "cell_type": "code",
   "execution_count": 4,
   "metadata": {},
   "outputs": [],
   "source": [
    "import numpy as np"
   ]
  },
  {
   "cell_type": "code",
   "execution_count": 23,
   "metadata": {},
   "outputs": [],
   "source": [
    "def alex_matrix(array ,n,order = False):\n",
    "    if not order :\n",
    "        result = np.array([i**(n-j-1) for i in array for j in range(0,n)]).reshape(array.size,n)\n",
    "    elif order :\n",
    "        result = np.array([i**j for i in array for j in range(0,n)]).reshape(array.size,n)\n",
    "    return result"
   ]
  },
  {
   "cell_type": "code",
   "execution_count": 26,
   "metadata": {},
   "outputs": [
    {
     "data": {
      "text/plain": [
       "array([[ 1,  1,  1],\n",
       "       [ 4,  2,  1],\n",
       "       [ 9,  3,  1],\n",
       "       [16,  4,  1],\n",
       "       [25,  5,  1]])"
      ]
     },
     "execution_count": 26,
     "metadata": {},
     "output_type": "execute_result"
    }
   ],
   "source": [
    "#not increasing order\n",
    "matrix = alex_matrix(np.array([1,2,3,4,5]),3)\n",
    "matrix"
   ]
  },
  {
   "cell_type": "code",
   "execution_count": 28,
   "metadata": {},
   "outputs": [
    {
     "data": {
      "text/plain": [
       "array([[ 1,  1,  1,  1,  1],\n",
       "       [ 1,  2,  4,  8, 16],\n",
       "       [ 1,  3,  9, 27, 81]])"
      ]
     },
     "execution_count": 28,
     "metadata": {},
     "output_type": "execute_result"
    }
   ],
   "source": [
    "#increasing order\n",
    "matrix = alex_matrix(np.array([1,2,3]),5,True)\n",
    "matrix"
   ]
  },
  {
   "cell_type": "markdown",
   "metadata": {},
   "source": [
    "2. Given a sequence of n values x1, x2, ..., xn and a window size k>0, the k-th moving average of\n",
    "the given sequence is defined as follows:\n",
    "```\n",
    "The moving average sequence has n-k+1 elements as shown below.\n",
    "The moving averages with k=4 of a ten-value sequence (n=10) is shown below\n",
    "i 1 2 3 4 5 6 7 8 9 10\n",
    "===== == == == == == == == == == ==\n",
    "Input 10 20 30 40 50 60 70 80 90 100\n",
    "y1 25 = (10+20+30+40)/4\n",
    "y2 35 = (20+30+40+50)/4\n",
    "y3 45 = (30+40+50+60)/4\n",
    "y4 55 = (40+50+60+70)/4\n",
    "y5 65 = (50+60+70+80)/4\n",
    "y6 75 = (60+70+80+90)/4\n",
    "y7 85 = (70+80+90+100)/4\n",
    "Thus, the moving average sequence has n-k+1=10-4+1=7 values.\n",
    "```"
   ]
  },
  {
   "cell_type": "code",
   "execution_count": 21,
   "metadata": {},
   "outputs": [],
   "source": [
    "def avgwindow(array,k):\n",
    "    result= []\n",
    "    for i in range(0,array.size-k+1):\n",
    "        result.append(sum(array[i:i+k])/k)\n",
    "    return(np.array(result,dtype=int))"
   ]
  },
  {
   "cell_type": "code",
   "execution_count": 23,
   "metadata": {},
   "outputs": [
    {
     "data": {
      "text/plain": [
       "array([25, 35, 45, 55, 65, 75, 85])"
      ]
     },
     "execution_count": 23,
     "metadata": {},
     "output_type": "execute_result"
    }
   ],
   "source": [
    "ans = avgwindow(np.array([10,20,30,40,50,60,70,80,90,100]),4)\n",
    "ans"
   ]
  },
  {
   "cell_type": "markdown",
   "metadata": {},
   "source": [
    "Write a function to find moving average in an array over a window:\n",
    "```\n",
    "Test it over [3, 5, 7, 2, 8, 10, 11, 65, 72, 81, 99, 100, 150] and window of 3```"
   ]
  },
  {
   "cell_type": "code",
   "execution_count": 24,
   "metadata": {},
   "outputs": [
    {
     "data": {
      "text/plain": [
       "array([  5,   4,   5,   6,   9,  28,  49,  72,  84,  93, 116])"
      ]
     },
     "execution_count": 24,
     "metadata": {},
     "output_type": "execute_result"
    }
   ],
   "source": [
    "ans = avgwindow(np.array([3, 5, 7, 2, 8, 10, 11, 65, 72, 81, 99, 100, 150]),3)\n",
    "ans"
   ]
  }
 ],
 "metadata": {
  "kernelspec": {
   "display_name": "Python 3",
   "language": "python",
   "name": "python3"
  },
  "language_info": {
   "codemirror_mode": {
    "name": "ipython",
    "version": 3
   },
   "file_extension": ".py",
   "mimetype": "text/x-python",
   "name": "python",
   "nbconvert_exporter": "python",
   "pygments_lexer": "ipython3",
   "version": "3.6.5"
  }
 },
 "nbformat": 4,
 "nbformat_minor": 2
}
